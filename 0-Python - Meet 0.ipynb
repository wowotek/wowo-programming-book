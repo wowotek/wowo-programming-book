{
 "cells": [
  {
   "cell_type": "markdown",
   "id": "cccd7c17-0145-4c07-967c-f625b8ff9fa1",
   "metadata": {},
   "source": [
    "<center><h1>Sulitnya Belajar Pemrograman Jilid 0 - Python</h1></center>\n",
    "<center><h3>Pertemuan 0 - Perkenalan, dan Instalasi</h3></center>\n",
    "<hr>"
   ]
  },
  {
   "cell_type": "markdown",
   "id": "fe879ebf-6bab-4de2-8518-1d0c4e5ff952",
   "metadata": {},
   "source": [
    "Python ditulis oleh Guido van Rossum, yang ingin membuat bahasa pemrograman yang ***mudah untuk dibaca***, ***konsisten***, dan ***mudah untuk dipelajari***.\n",
    "artinya, untuk belajar python, anda akan lebih banyak membaca tutorial, dan dokumentasi, dari pada menulis dan mencoba kode, karena mencoba kode akan sangat mudah. Namun mengerti bagaimana Python bekerja, akan jauh lebih sulit.\n",
    "\n",
    "dalam belajar ***bahasa*** pemrograman, ada harus belajar aspek ***bahasa***-nya itu sendiri, seperti anda belajar bahasa lain selain bahasa utama anda. Secara umum, belajar ***bahasa*** adalah satu satunya cara untuk melemparkan dan membuat pendengarnya mengerti ide yang ada sampaikan, dengan cara mengerti bahasa itu dibentuk, mulai dari *grammar*, *semantik*, dan lain lain. dalam kasus ini, Python adalah pendengar nya, dan anda yang akan menyampaikan ide kepada Python.\n",
    "\n",
    "Saya **WOWO** <i style=\"color: rgba(1, 1, 1, 0.3)\">--panggil saya <b>WOWO</b>--</i> akan menjadi guru anda, sampai anda benar benar menyerah dalam belajar bahasa pemrograman.\n",
    "\n",
    "Dalam buku ini, akan diperlukan alat yang harus di instal dalam sistem komputer anda:\n",
    "1. Python <i style=\"font-size: smaller; color: rgba(1, 1, 1, 0.3)\">(duh)</i>\n",
    "2. Jupyter Notebook"
   ]
  },
  {
   "cell_type": "markdown",
   "id": "a0852a2e-60e1-4775-bcb4-98eb06b51130",
   "metadata": {},
   "source": [
    "### Menginstal Python\n",
    "<center><img src=\"res/python-logo.png\" width=260/></center>\n",
    "\n",
    "1. Klik menuju website official python : [Python.org Download](https://www.python.org/downloads/)\n",
    "    <p><img src=\"res/1.png\" width=500></p> Silahkan download sesuai dengan sistem operasi anda.\n",
    "2. Install sesuai dengan instruksi, masing masing sistem operasi.\n",
    "3. Restart\n",
    "4. Buka **Command Prompt** atau **Terminal**\n",
    "    - Untuk Windows: tekan tombol <img src=\"res/key-windows.png\" width=20/> **+** <img src=\"res/key-r.png\" width=19/>, ketik **_cmd_** tekan <img src=\"res/key-enter.png\" width=18/>\n",
    "    - Untuk MacOS: tekan tombol <img src=\"res/key-command.png\" width=20/> **+** <img src=\"res/key-space.png\" width=58/>, ketik **_terminal_** tekan <img src=\"res/key-enter.png\" width=18/>\n",
    "    - Untuk Linux: buka terminal, sesuai dengan distribusi anda\n",
    "5. ketik **_python3_ --version**, lalu tekan <img src=\"res/key-enter.png\" width=18/>. jika command tersebut tidak bisa, silahkan coba **_py_** atau **_python_** atau **_py3_**, lalu ***--version*** <i style=\"font-size: smaller; color: rgba(1, 1, 1, 0.5)\">perhatikan spasi diantara \"python\" dan \"--version\"</i>\n",
    "\n",
    "Jika keluar output seperti ini:\n",
    "```txt\n",
    "Python 3.11.0\n",
    "```\n",
    "Versi seperti `3.11.0` selama diatas `3.0.0` Maka anda telah berhasil menginstall python."
   ]
  },
  {
   "cell_type": "markdown",
   "id": "19b6d1d8-4f8c-42e9-a086-397c3f746a56",
   "metadata": {},
   "source": [
    "### Menginstal Jupyter Notebook \n",
    "<center><img src=\"res/jupyternotebook-logo.png\" width=100/></center>\n",
    "\n",
    "1. Buka **Command Prompt** atau **Terminal**, seperti tahap no. 4 sebelumnya\n",
    "2. ketik **python3 -m pip install jupyterlab** lalu tekan <img src=\"res/key-enter.png\" width=18/>\n",
    "3. setelah process instalasi selesai, silahkan ketik **jupyter-lab** lalu tekan <img src=\"res/key-enter.png\" width=18/>\n",
    "4. Jika browser anda tidak otomatis terbuka, maka buka browser lalu pergi ke: [Jupyter Lab](http://localhost:8888/lab) atau ketik manual: **http://localhost:8888/lab**"
   ]
  },
  {
   "cell_type": "code",
   "execution_count": 10,
   "id": "f2e05035-5586-4867-abfa-57e97f76eb2d",
   "metadata": {},
   "outputs": [],
   "source": [
    "### TODO : Tutorial Jupyter Notebook"
   ]
  },
  {
   "cell_type": "markdown",
   "id": "6845a796-395e-4ed9-942f-d6a0685a1c34",
   "metadata": {},
   "source": [
    "### Referensi\n",
    "pertemuan kita selanjutnya akan membahas tentang pemahaman **bahasa** mulai dari\n",
    "\n",
    "1. ***Grammar*** dan\n",
    "2. ***Semantik***\n",
    "\n",
    "sebagai bacaan silahkan mulai membaca dari searching di google dengan keyword:\n",
    "- Python Grammar\n",
    "- Python Basic Grammar\n",
    "- Python Reserved Words\n",
    "- Grammar in Programming Language\n",
    "- Programming Language Semantics"
   ]
  },
  {
   "cell_type": "markdown",
   "id": "0292e820-c77b-4993-83c4-baf29fd083a5",
   "metadata": {},
   "source": [
    "<center><h3>Selamat anda telah <i>nyebur</i> ke dunia kelam <b>PEMROGRAMAN</b></h3></center><br>"
   ]
  },
  {
   "cell_type": "code",
   "execution_count": 9,
   "id": "46eb9f17-b627-4551-9451-0f6474541d77",
   "metadata": {},
   "outputs": [
    {
     "name": "stdout",
     "output_type": "stream",
     "text": [
      "Tingkat optimisme belajar python : 100% 95% 90% 85% 80% 75% 70% 65% 60% 55% 50% 45% 40% 35% 30% 25% 20% 15% 10% 5% 0% "
     ]
    }
   ],
   "source": [
    "optimism = 100 # percent\n",
    "print(\"Tingkat optimisme belajar python : \", end=\"\")\n",
    "while optimism >= 0:\n",
    "    print(f\"{optimism}%\", end=\" \")\n",
    "    optimism -= 5"
   ]
  }
 ],
 "metadata": {
  "kernelspec": {
   "display_name": "Python 3 (ipykernel)",
   "language": "python",
   "name": "python3"
  },
  "language_info": {
   "codemirror_mode": {
    "name": "ipython",
    "version": 3
   },
   "file_extension": ".py",
   "mimetype": "text/x-python",
   "name": "python",
   "nbconvert_exporter": "python",
   "pygments_lexer": "ipython3",
   "version": "3.11.0"
  }
 },
 "nbformat": 4,
 "nbformat_minor": 5
}
