{
 "cells": [
  {
   "cell_type": "markdown",
   "id": "cccd7c17-0145-4c07-967c-f625b8ff9fa1",
   "metadata": {},
   "source": [
    "<center><h1>Pertemuan 0</h1></center>\n",
    "<center><h3>Perkenalan, Instalasi, dan Penggunaan Tools</h3></center>\n",
    "<hr>"
   ]
  },
  {
   "cell_type": "markdown",
   "id": "fe879ebf-6bab-4de2-8518-1d0c4e5ff952",
   "metadata": {},
   "source": [
    "## Perkenalan\n",
    "\n",
    "Python ditulis oleh Guido van Rossum, yang ingin membuat bahasa pemrograman yang ***mudah untuk dibaca***, ***konsisten***, dan ***mudah untuk dipelajari***.\n",
    "artinya, untuk belajar python, anda akan lebih banyak membaca tutorial, dan dokumentasi, dari pada menulis dan mencoba kode, karena mencoba kode akan sangat mudah. Namun mengerti bagaimana Python bekerja, akan jauh lebih sulit.\n",
    "\n",
    "dalam belajar ***bahasa*** pemrograman, ada harus belajar aspek ***bahasa***-nya itu sendiri, seperti anda belajar bahasa lain selain bahasa utama anda. Secara umum, belajar ***bahasa*** adalah satu satunya cara untuk melemparkan dan membuat pendengarnya mengerti ide yang ada sampaikan, dengan cara mengerti bahasa itu dibentuk, mulai dari *grammar*, *semantik*, dan lain lain. dalam kasus ini, Python adalah pendengar nya, dan anda yang akan menyampaikan ide kepada Python.\n",
    "\n",
    "Saya **WOWO** <i style=\"color: rgba(1, 1, 1, 0.3)\">--panggil saya <b>WOWO</b>--</i> akan menjadi guru anda, sampai anda benar benar menyerah dalam belajar bahasa pemrograman."
   ]
  },
  {
   "cell_type": "markdown",
   "id": "a0852a2e-60e1-4775-bcb4-98eb06b51130",
   "metadata": {},
   "source": [
    "## Instalasi\n",
    "\n",
    "Dalam buku ini, akan diperlukan alat yang harus di instal dalam sistem komputer anda:\n",
    "\n",
    "0. Python <i style=\"font-size: smaller; color: rgba(1, 1, 1, 0.3)\">(duh)</i>\n",
    "1. Jupyter Notebook\n",
    "\n",
    "### Menginstal Python\n",
    "<center><img src=\"res/python-logo.png\" width=260/></center>\n",
    "\n",
    "0. Klik menuju website official python : [Python.org Download](https://www.python.org/downloads/)\n",
    "    <p><img src=\"res/1.png\" width=500></p> Silahkan download sesuai dengan sistem operasi anda.\n",
    "1. Install sesuai dengan instruksi, masing masing sistem operasi.\n",
    "2. Restart\n",
    "3. Buka **Command Prompt** atau **Terminal**\n",
    "    - Untuk Windows: tekan tombol <img src=\"res/key-windows.png\" width=20/> **+** <img src=\"res/key-r.png\" width=19/>, ketik **_cmd_** tekan <img src=\"res/key-enter.png\" width=18/>\n",
    "    - Untuk MacOS: tekan tombol <img src=\"res/key-command.png\" width=20/> **+** <img src=\"res/key-space.png\" width=58/>, ketik **_terminal_** tekan <img src=\"res/key-enter.png\" width=18/>\n",
    "    - Untuk Linux: buka terminal, sesuai dengan distribusi anda\n",
    "4. ketik **_python3_ --version**, lalu tekan <img src=\"res/key-enter.png\" width=18/>. jika command tersebut tidak bisa, silahkan coba **_py_** atau **_python_** atau **_py3_**, lalu ***--version*** <i style=\"font-size: smaller; color: rgba(1, 1, 1, 0.5)\">perhatikan spasi diantara \"python\" dan \"--version\"</i>\n",
    "\n",
    "5. Jika keluar output seperti ini:\n",
    "    \n",
    "    ```txt\n",
    "    Python 3.11.0\n",
    "    ```\n",
    "    <br>Versi seperti `3.11.0` selama diatas `3.0.0` Maka anda telah berhasil menginstall python."
   ]
  },
  {
   "cell_type": "markdown",
   "id": "19b6d1d8-4f8c-42e9-a086-397c3f746a56",
   "metadata": {},
   "source": [
    "### Menginstal Jupyter Notebook \n",
    "<center><img src=\"res/jupyternotebook-logo.png\" width=100/></center>\n",
    "\n",
    "0. Buka **Command Prompt** atau **Terminal**, seperti tahap no. 4 sebelumnya\n",
    "1. ketik \n",
    "    \n",
    "    ```python3 -m pip install jupyterlab```\n",
    "    \n",
    "    lalu tekan <img src=\"res/key-enter.png\" width=18/>\n",
    "    \n",
    "2. setelah process instalasi selesai, silahkan ketik **jupyter-lab** lalu tekan <img src=\"res/key-enter.png\" width=18/>\n",
    "3. Jika browser anda tidak otomatis terbuka, maka buka browser lalu pergi ke: [Jupyter Lab](http://localhost:8888/lab) atau ketik manual:\n",
    "    \n",
    "    ```http://localhost:8888/lab```"
   ]
  },
  {
   "cell_type": "markdown",
   "id": "494b82bb-e839-4077-90ea-8f2dd7c9d94b",
   "metadata": {},
   "source": [
    "## Penggunaan Tools\n",
    "\n",
    "<center><img src=\"res/sc-jupyter-notebook.png\" width=600></center>\n",
    "\n",
    "#### 0. Membuat Folder\n",
    "Laman sebelah kiri adalah navigasi folder, hampir sama seperti explorer pada Windows atau finder pada MacOs. Pastikan selalu membuat folder baru untuk setiap pr\n",
    "oject yang anda kerjakan. contoh project adalah seperti \"kalkulator-gue\", \"website-temen-1\", \"projek-pertama\", \"skripsi-temen-a\", \"skripsi-pacar\".\n",
    "\n",
    "Sebagai contoh dan sebagai folder yang kita gunakan selama membaca buku ini, silahkan buat folder bernama \"Latihan\" dengan menekan tombol **+** dengan icon folder kiri atas <img src=\"res/sc-new-folder.png\" width=20> sebelah kanan tombol biru."
   ]
  },
  {
   "cell_type": "markdown",
   "id": "46c8f19c-e731-432f-9ce5-ff97d8f9d1b1",
   "metadata": {},
   "source": [
    "#### 1. Membuat Notebook Baru\n",
    "tekan folder bernama \"Latihan\" yang baru saja dibuat. lalu tekan **+** biru di kiri atas <img src=\"res/sc-new-notebook.png\" width=40> untuk membuka launcher pilihan, lalu pilih **`Python 3`** dibawah _section_ Notebook\n",
    "\n",
    "<center><img src=\"res/sc-new-python.png\" width=200/></center>"
   ]
  },
  {
   "cell_type": "markdown",
   "id": "864923ba-e744-4c77-a261-9442fa40a40f",
   "metadata": {},
   "source": [
    "#### 2. Menulis Kode pertama\n",
    "\n",
    "berikut hasil tampilan setelah menjalankan tahap tahap diatas\n",
    "\n",
    "<center><img src=\"res/sc-notebook.png\"></center>\n",
    "\n",
    "di tahap ini seksi yang sedang anda pilih adalah seksi yang ada tanda garis biru tebal di sebelah kiri notebook. yang ditandai dengan `[ ] :` lalu kotak berwarna abu. Didalam kotak berwarna abu ini adalah tempat anda menulis kode dan/atau konten lain seperti catatan atau bahkan gambar. sebagai contoh mari kita menulis kode ini kedalam kotak berwarna abu.\n",
    "\n",
    "```python\n",
    "nama_saya = \"wowotek\"\n",
    "print(f\"Halo saya bernama {nama_saya}\")\n",
    "\n",
    "lama_menjadi_orang_malas = 10 + 2 * 1.23\n",
    "print(f\"saya sedang belajar bahasa python, dan saya adalah orang yang malas juga tidak bersemangat selama {lama_menjadi_orang_malas} tahun.\")\n",
    "print()\n",
    "\n",
    "print(\"saya harus bisa membuat program supaya bisa berpenghasilan\")\n",
    "\n",
    "sebab = \"supaya bisa kerja dirumah dekat dengan anak istri\"\n",
    "print(sebab)\n",
    "```\n",
    "\n",
    "lalu tekan <img src=\"res/key-ctrl.png\" width=18> **+** <img src=\"res/key-enter.png\" width=18> di windows, <img src=\"res/key-command.png\" width=18> **+** <img src=\"res/key-enter.png\" width=18> di MacOs untuk menyelesaikan lalu menjalankan program didalam seksi yang sudah anda tulis.\n",
    "\n",
    "<center><img src=\"res/sc-kode-pertama.png\"></center>\n",
    "\n",
    "Untuk mengedit seksi tersebut, bisa melalui klik 2 (dua) kali di seksi tersebut, bisa juga dengan klik seksi tersebut lalu tekan <img src=\"res/key-enter.png\" width=18>"
   ]
  },
  {
   "cell_type": "markdown",
   "id": "3c65db4b-3580-48e9-8e50-cf8ab70fe92a",
   "metadata": {},
   "source": [
    "#### 3. Membuat Catatan dan mengatur urutan\n",
    "\n",
    "untuk membuat catatan silahkan menekan tombol **+** <img src=\"res/sc-plus-notebook.png\" width=20>\n",
    "lalu memilih **markdown** pada _drop-down_ <img src=\"res/sc-dropdown.png\" width=80> menjadi <img src=\"res/sc-dropdown-markdown.png\" width=80>. sebagai contoh kita akan menulis didalam seksi markdown yang baru saja dibuat, lalu tekan <img src=\"res/key-ctrl.png\" width=18> **+** <img src=\"res/key-enter.png\" width=18> di windows, <img src=\"res/key-command.png\" width=18> **+** <img src=\"res/key-enter.png\" width=18> di MacOs\n",
    "\n",
    "```markdown\n",
    "1. Membuat **Variable** juga perintah `print`\n",
    "```\n",
    "\n",
    "Berikut hasilnya\n",
    "\n",
    "<center><img src=\"res/sc-notebook-md1.png\"></center>\n",
    "\n",
    "lalu bisa juga anda merubah urutannya dengan cara klik dan drag mouse dengan menekan diantara kotak seksi dan garis biru tebal, lalu tarik (drag) ke atas kode yang sebelumnya ditulis, catatan tersebut menjelaskan kode yang sudah ditulis\n",
    "\n",
    "<center><img src=\"res/sc-notebook-md2.png\"></center>"
   ]
  },
  {
   "cell_type": "markdown",
   "id": "4551d754-022b-44aa-bdd5-16ce5b81286a",
   "metadata": {},
   "source": [
    "#### 4. Beberapa _Cheat-Sheet_ mengunakan _Markdown_ sebagai catatan\n",
    "\n",
    "mengunakan tagar `#` akan membuat tulisan anda tebal sebagai Judul atau sub-judul dan bisa juga di tambahkan tagar untuk mengecilkan tulisan sesuai dengan jumlah tagar `#` yang ada. contoh:\n",
    "\n",
    "```\n",
    "# Judul\n",
    "\n",
    "konten\n",
    "\n",
    "## Sub-Judul 1\n",
    "\n",
    "konten sub-judul 1\n",
    "\n",
    "### Sub-Judul 2\n",
    "\n",
    "penjelasan sub-judul 2\n",
    "\n",
    "#### Sub-Judul 3\n",
    "\n",
    "penjelasan lebih lanjut\n",
    "\n",
    "##### Sub-Judul 4\n",
    "###### Sub-Judul 5\n",
    "```\n",
    "\n",
    "akan menjadi\n",
    "\n",
    "<center><img src=\"res/sc-notebook-md3.png\"></center>\n",
    "\n",
    "mengunakan kode dibawah:\n",
    "\n",
    "- menulis diantara 1 (satu) bintang `*` atau _underscore_ `_` seperti `_Italic_` akan membuat tulisan menjadi _Italic_ atau miring\n",
    "- menulis diantara 2 (dua) bintang `**` akan seperti `**Bold**` membuat tulisan menjadi **Bold**\n",
    "- menulis diantara 1 (satu) _tilde_ `` ` `` (tombol keyboard yang bergambar `~`) akan membuat tulisan menjadi seperti `kode`\n",
    "- menulis diantara 3 _tilde_ `` ``` `` akan membuat tulisan dengan banyak paragraf atau baris menjadi kode contoh:\n",
    "    ```\n",
    "        ```\n",
    "        ini adalah kode\n",
    "        yang bisa men-support\n",
    "        banyak baris atau paragraf\n",
    "        ```\n",
    "    ```\n",
    "    \n",
    "    menjadi:\n",
    "    \n",
    "    ```\n",
    "    ini adalah kode\n",
    "    yang bisa men-support\n",
    "    banyak baris atau paragraf\n",
    "    ```\n",
    "    <br>\n",
    "    atau contoh kode dengan menambahkan nama bahasa pemrograman setelah 3 tilde awal seperti:\n",
    "    \n",
    "    ```\n",
    "        ```python\n",
    "        print(\"Hello World\")\n",
    "        number_sum = 3 + 3\n",
    "        print(number_sum)\n",
    "        ```\n",
    "    ```\n",
    "    \n",
    "    menjadi\n",
    "    \n",
    "    ```python\n",
    "    print(\"Hello World\")\n",
    "    number_sum = 3 + 3\n",
    "    print(number_sum)\n",
    "    ```\n",
    "\n",
    "\n",
    "<center><h3><i> Fun Fact: Buku ini ditulis menggunakan Jupyter Notebook </i></h3></center>"
   ]
  },
  {
   "cell_type": "markdown",
   "id": "6845a796-395e-4ed9-942f-d6a0685a1c34",
   "metadata": {
    "jp-MarkdownHeadingCollapsed": true,
    "tags": []
   },
   "source": [
    "### Referensi\n",
    "pertemuan kita selanjutnya akan membahas tentang pemahaman **bahasa** mulai dari\n",
    "\n",
    "1. ***Grammar*** dan\n",
    "2. ***Semantik***\n",
    "\n",
    "sebagai bacaan silahkan mulai membaca dari searching di google dengan keyword:\n",
    "- Python Grammar\n",
    "- Python Basic Grammar\n",
    "- Python Reserved Words\n",
    "- Grammar in Programming Language\n",
    "- Programming Language Semantics"
   ]
  },
  {
   "cell_type": "markdown",
   "id": "0292e820-c77b-4993-83c4-baf29fd083a5",
   "metadata": {},
   "source": [
    "<center><h3>Selamat anda telah <i>nyebur</i> ke dunia kelam <b>PEMROGRAMAN</b></h3></center><br>"
   ]
  },
  {
   "cell_type": "code",
   "execution_count": 12,
   "id": "46eb9f17-b627-4551-9451-0f6474541d77",
   "metadata": {},
   "outputs": [
    {
     "name": "stdout",
     "output_type": "stream",
     "text": [
      "Tingkat optimisme belajar python : 100%, 95%, 90%, 85%, 80%, 75%, 70%, 65%, 60%, 55%, 50%, 45%, 40%, 35%, 30%, 25%, 20%, 15%, 10%, 5%, 0%, \n",
      "\n",
      "\n",
      ">:(\n"
     ]
    }
   ],
   "source": [
    "optimism = 100 # percent\n",
    "print(\"Tingkat optimisme belajar python : \", end=\"\")\n",
    "while optimism >= 0:\n",
    "    print(f\"{optimism}%\", end=\", \")\n",
    "    optimism -= 5\n",
    "print(\"\\n\\n\")\n",
    "print(\">:(\")"
   ]
  }
 ],
 "metadata": {
  "kernelspec": {
   "display_name": "Python 3 (ipykernel)",
   "language": "python",
   "name": "python3"
  },
  "language_info": {
   "codemirror_mode": {
    "name": "ipython",
    "version": 3
   },
   "file_extension": ".py",
   "mimetype": "text/x-python",
   "name": "python",
   "nbconvert_exporter": "python",
   "pygments_lexer": "ipython3",
   "version": "3.10.7"
  }
 },
 "nbformat": 4,
 "nbformat_minor": 5
}
