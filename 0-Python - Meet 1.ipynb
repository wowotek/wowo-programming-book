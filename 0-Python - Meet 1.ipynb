{
 "cells": [
  {
   "cell_type": "markdown",
   "id": "4cdc567a-92a4-4980-9b35-cf7bd18a8f88",
   "metadata": {},
   "source": [
    "<center><h1>Sulitnya Belajar Pemrograman Jilid 0 - Python</h1></center>\n",
    "<center><h3>Pertemuan 1 - Struktur Bahasa Python</h3></center>\n",
    "<hr>"
   ]
  }
 ],
 "metadata": {
  "kernelspec": {
   "display_name": "Python 3 (ipykernel)",
   "language": "python",
   "name": "python3"
  },
  "language_info": {
   "codemirror_mode": {
    "name": "ipython",
    "version": 3
   },
   "file_extension": ".py",
   "mimetype": "text/x-python",
   "name": "python",
   "nbconvert_exporter": "python",
   "pygments_lexer": "ipython3",
   "version": "3.11.0"
  }
 },
 "nbformat": 4,
 "nbformat_minor": 5
}
