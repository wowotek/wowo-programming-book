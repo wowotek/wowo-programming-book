{
 "cells": [
  {
   "cell_type": "markdown",
   "id": "4cdc567a-92a4-4980-9b35-cf7bd18a8f88",
   "metadata": {},
   "source": [
    "<center><h1>Sulitnya Belajar Pemrograman - Python</h1></center>\n",
    "<center><h4>Pertemuan 1 - Struktur Bahasa Python</h3></center>\n",
    "<hr>"
   ]
  },
  {
   "cell_type": "markdown",
   "id": "2d8f311d-5496-4233-9779-a7cc5d4de4f6",
   "metadata": {},
   "source": [
    "### Konsep\n",
    "\n",
    "Seperti dijelaskan di pertemuan selanjutnya hal pertama dalam belajar bahasa pemrograman adalah belajar **Bahasa** terlebih dahulu sebelum belajar konsep **Pemrograman**\n",
    "\n",
    "#### Reserved Words\n",
    "\n",
    "Kata Kata yang sudah digunakan atau biasa disebut **Keywords** oleh python tidak dapat digunakan sebagai penamaan, dan beberapa kasus lain yang akan tercerahkan oleh tahap tahap selanjutnya. berikut kata kata yang sudah di pakai oleh python\n",
    "\n",
    "||||\n",
    "|:-:|:-:|:-:|\n",
    "| False | def | if |\n",
    "| raise | None | del |\n",
    "| import | return | True |\n",
    "| elif | in | try |\n",
    "| and | else | is |\n",
    "| while | as | except |\n",
    "| lambda | with | assert |\n",
    "| finally | nonlocal | yield |\n",
    "| break | for | not |\n",
    "| class | form | or |\n",
    "| continue | global | pass |\n",
    "\n",
    "#### Grammar / Struktur\n",
    "\n",
    "Pada dasar dan umumnya bahasa pemrograman dibagi menjadi 2 jenis struktur yaitu **Expression** dan **Statements**\n",
    "\n",
    "contoh statements adalah membuat **variabel** strukturnya adalah:\n",
    "\n",
    "* **IDENTIFIER** diikuti dengan simbol **=** lalu diikuti dengan **EXPRESSION** seperti:\n",
    "```\n",
    "IDENTIFIER = EXPRESSION\n",
    "```\n",
    "\n",
    "##### 1. Identifier\n",
    "* Identifier adalah kata kata yang dapat anda buat sendiri -- artinya, bahasa indonesia pun akan valid. seperti `umur`, `daftar_aturan`, `nama`, `syarat`.\n",
    "* syarat membuat identifier adalah menggunakan huruf, dapat huruf kecil maupun kapital seperti `umUR`, `Umur`, `UMUR`, `NaMa` pun akan valid, namun akan aneh jika anda sengaja membuat seperti itu.\n",
    "* identifier tidak dapat dibuat jika angka menjadi awal identifier, seperti `3orang`, `10nama`, `90jenis` tidak akan valid, namun `aturan1`, `nama_ke_2` akan valid.\n",
    "* identifier tidak bisa menggunakan simbol selain underscore, seperti `-nama`, `umur-nama`, `orang-1` tidak valid, silahkan gunakan underscore seperti `_nama`, `umur_nama`, `orang_1`.\n",
    "* berikut variable yang valid menggunakan semua syarat diatas: `__orang_Ke_3`\n",
    "* Biasanya orang yang mengunakan python, lebih sering menggunakan underscore untuk memisahkan kata, seperti `age_list`, `name_list`, `list_types`. tata tulis seperti ini disebut ***snake_case***\n",
    "* Bisa juga menggunakan ***camelCase*** seperti: `ageList`, `nameList`, `listTypes`\n",
    "* atau ***PascalCase*** seperti `AgeList`, `NameList`, `ListTypes`\n",
    "\n",
    "##### 2. Expression\n",
    "* Expression adalah kode yang akan menghasilkan sebuah value, seperti penambahan pengurangan `3 + 2 - 1`, perkalian `10 * 2`, pembagian `50 / 2`.\n",
    "* Expression diatas akan dievaluasi seperti sesuai dengan logika matematika `3 + 2 - 1` menjadi\n",
    "    1. `3 + 2 - 1` dievaluasi menjadi `(3 + 2) - 1`\n",
    "    2. `5 - 1` dievaluasi menjadi `(5 - 1)`\n",
    "    3. `4`\n",
    "    maka `3 + 2 - 1` di evaluasi menjadi `4`\n",
    "* Bahkan Value satu buah-pun termasuk expression yang valid, seperti `3` akan dievalusi menjadi <i style=\"font-size: smaller; color: rgba(1, 1, 1, 0.3)\">(duh)</i> `3`\n",
    "* Juga Identifier yang sudah didefinisikan merupakan Expression yang valid maupun _singular_ seperti `umur` atau _multiple_ `umur + 3`, atau `umur_orang_1 + umur_orang_2 + umur_orang_3`\n",
    "* Didalam **Reserved Words** terdapat 3 (tiga) buah expression yang valid yaitu `True`, `False`, dan `None` yang arti nya `benar`, `salah`, dan `kosong`\n",
    "* Expression biasanya didampingi oleh **operator**, seperti contoh diatas `3 + 2 - 1` ada **Literal Value** atau **Nilai** yaitu `3`, `2`, dan `1` juga **operator**-nya yaitu `+` dan `-`\n",
    "* Operator seperti `+` tambah, `-` kurang, `/` pembagian _real_, `//` pembagian angka bulat, `*` kali, `**` pangkat, adalah operator aritmatika.\n",
    "* Didalam **Reserved Words** terdapat 4 (empat) buath operator yaitu, `and`, `or`, `not` dan `is` yang berfungsi sebagai operator logika.\n",
    "\n",
    "##### 3. Implikasi Silang\n",
    "\n",
    "Jika diperhatikan, mengapa tanda `-` tidak bisa digunakan sebagai bagian dari identifier, maka jawabannya adalah karena secara bahasa akan menjadi ambigu apakah tanda `-` digunakan sebagai identifier, atau digunakan sebagai operator.\n",
    "\n",
    "<center><h3>Hahaha Sulit-<i>kan</i> ? Embeeee<i>rrrrr....</i></h3></center>"
   ]
  },
  {
   "cell_type": "code",
   "execution_count": null,
   "id": "c20e4c1f-d42c-46a6-bd8f-81a590973c39",
   "metadata": {},
   "outputs": [],
   "source": []
  }
 ],
 "metadata": {
  "kernelspec": {
   "display_name": "Python 3 (ipykernel)",
   "language": "python",
   "name": "python3"
  },
  "language_info": {
   "codemirror_mode": {
    "name": "ipython",
    "version": 3
   },
   "file_extension": ".py",
   "mimetype": "text/x-python",
   "name": "python",
   "nbconvert_exporter": "python",
   "pygments_lexer": "ipython3",
   "version": "3.11.0"
  }
 },
 "nbformat": 4,
 "nbformat_minor": 5
}
